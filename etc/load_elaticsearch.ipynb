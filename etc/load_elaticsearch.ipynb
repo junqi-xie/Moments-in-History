{
  "cells": [
    {
      "metadata": {
        "trusted": true
      },
      "cell_type": "code",
      "source": [
        "from elasticsearch import Elasticsearch\n",
        "import json"
      ],
      "execution_count": null,
      "outputs": []
    },
    {
      "cell_type": "markdown",
      "metadata": {},
      "source": [
        "## 1. Initialization"
      ]
    },
    {
      "metadata": {
        "trusted": true
      },
      "cell_type": "code",
      "source": [
        "es = Elasticsearch(hosts='127.0.0.1')"
      ],
      "execution_count": null,
      "outputs": []
    },
    {
      "metadata": {
        "trusted": true
      },
      "cell_type": "code",
      "source": [
        "mappings = {\n",
        "    \"mappings\": {\n",
        "        \"properties\": {         \n",
        "            \"name\": {\n",
        "                \"type\": \"text\"\n",
        "            },\n",
        "            \"portrait_url\": {\n",
        "                \"type\": \"text\"\n",
        "            },\n",
        "            \"award\": {\n",
        "                \"type\": \"text\",\n",
        "                \"analyzer\": \"english\"\n",
        "            },\n",
        "            \"year\": {\n",
        "                \"type\": \"long\"\n",
        "            },\n",
        "            \"country\": {\n",
        "                \"type\": \"text\"\n",
        "            },\n",
        "            \"birth_date\": {\n",
        "                \"type\": \"text\"\n",
        "            },\n",
        "            \"birth_place\": {\n",
        "                \"type\": \"text\"\n",
        "            },\n",
        "            \"death_date\": {\n",
        "                \"type\": \"text\"\n",
        "            },\n",
        "            \"death_place\": {\n",
        "                \"type\": \"text\"\n",
        "            },\n",
        "            \"affiliation\": {\n",
        "                \"type\": \"text\",\n",
        "                \"analyzer\": \"english\"\n",
        "            },\n",
        "            \"motivation\": {\n",
        "                \"type\": \"text\",\n",
        "                \"analyzer\": \"english\"\n",
        "            },\n",
        "            \"share\": {\n",
        "                \"type\": \"text\",\n",
        "            },\n",
        "            \"comment\": {\n",
        "                \"type\": \"text\",\n",
        "                \"analyzer\": \"english\"\n",
        "            }\n",
        "        }\n",
        "    }\n",
        "}\n",
        "es.indices.create(index='subject_awards', body=mappings)"
      ],
      "execution_count": null,
      "outputs": []
    },
    {
      "cell_type": "markdown",
      "metadata": {},
      "source": [
        "## 2. Load Data"
      ]
    },
    {
      "metadata": {
        "trusted": true
      },
      "cell_type": "code",
      "source": [
        "file_name = input(\"Input file name: \")\n",
        "info_all = []\n",
        "with open(file_namefile_name, \"r\", encoding='utf8') as f:\n",
        "    info_all = json.load(f)"
      ],
      "execution_count": null,
      "outputs": []
    },
    {
      "metadata": {
        "trusted": true
      },
      "cell_type": "code",
      "source": [
        "for info in info_all:\n",
        "    es.index(index='subject_awards',body=json.dumps(info, ensure_ascii=False))"
      ],
      "execution_count": null,
      "outputs": []
    }
  ],
  "metadata": {
    "kernelspec": {
      "name": "python_defaultSpec_1594604478264",
      "display_name": "Python 3.7.6 64-bit ('base': conda)",
      "language": "python"
    },
    "language_info": {
      "mimetype": "text/x-python",
      "nbconvert_exporter": "python",
      "name": "python",
      "pygments_lexer": "ipython3",
      "version": "3.7.6-final",
      "file_extension": ".py",
      "codemirror_mode": {
        "version": 3,
        "name": "ipython"
      }
    }
  },
  "nbformat": 4,
  "nbformat_minor": 2
}